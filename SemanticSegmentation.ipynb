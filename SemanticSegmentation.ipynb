{
  "nbformat": 4,
  "nbformat_minor": 0,
  "metadata": {
    "colab": {
      "name": "SemanticSegmentation.ipynb",
      "provenance": [],
      "collapsed_sections": []
    },
    "kernelspec": {
      "name": "python3",
      "display_name": "Python 3"
    },
    "accelerator": "GPU"
  },
  "cells": [
    {
      "cell_type": "code",
      "metadata": {
        "id": "V2DSWFxg0Lou",
        "colab_type": "code",
        "colab": {}
      },
      "source": [
        "import os\n",
        "import numpy as np\n",
        "import tensorflow as tf\n",
        "import matplotlib.pyplot as plt"
      ],
      "execution_count": 0,
      "outputs": []
    },
    {
      "cell_type": "code",
      "metadata": {
        "id": "8_YLVokS05oF",
        "colab_type": "code",
        "colab": {}
      },
      "source": [
        "! pip install -q kaggle"
      ],
      "execution_count": 0,
      "outputs": []
    },
    {
      "cell_type": "code",
      "metadata": {
        "id": "yG4y7IbB06Er",
        "colab_type": "code",
        "colab": {}
      },
      "source": [
        "from google.colab import files\n",
        "files.upload()"
      ],
      "execution_count": 0,
      "outputs": []
    },
    {
      "cell_type": "code",
      "metadata": {
        "id": "rqOirbRy06Ku",
        "colab_type": "code",
        "colab": {}
      },
      "source": [
        "! mkdir ~/.kaggle"
      ],
      "execution_count": 0,
      "outputs": []
    },
    {
      "cell_type": "code",
      "metadata": {
        "id": "zu4Dtp9p06N1",
        "colab_type": "code",
        "colab": {}
      },
      "source": [
        "! cp kaggle.json ~/.kaggle/"
      ],
      "execution_count": 0,
      "outputs": []
    },
    {
      "cell_type": "code",
      "metadata": {
        "id": "WH25tY7q06TT",
        "colab_type": "code",
        "colab": {}
      },
      "source": [
        "! chmod 600 ~/.kaggle/kaggle.json"
      ],
      "execution_count": 0,
      "outputs": []
    },
    {
      "cell_type": "code",
      "metadata": {
        "id": "JPhyhjXJ06Wq",
        "colab_type": "code",
        "colab": {}
      },
      "source": [
        "! kaggle datasets download -d dansbecker/cityscapes-image-pairs"
      ],
      "execution_count": 0,
      "outputs": []
    },
    {
      "cell_type": "code",
      "metadata": {
        "id": "M10MtDtn06b2",
        "colab_type": "code",
        "colab": {}
      },
      "source": [
        "! mkdir train\n",
        "! unzip cityscapes-image-pairs.zip -d train"
      ],
      "execution_count": 0,
      "outputs": []
    },
    {
      "cell_type": "code",
      "metadata": {
        "id": "iltmQ54311bO",
        "colab_type": "code",
        "colab": {}
      },
      "source": [
        "import shutil\n",
        "shutil.rmtree('/content/train/cityscapes_data/cityscapes_data', ignore_errors=True)"
      ],
      "execution_count": 0,
      "outputs": []
    },
    {
      "cell_type": "code",
      "metadata": {
        "id": "KSFRyaRD06Zv",
        "colab_type": "code",
        "colab": {}
      },
      "source": [
        "def loadImages(path):\n",
        "    image = tf.io.read_file(path)\n",
        "    image = tf.image.decode_jpeg(image)\n",
        "    \n",
        "    slice_index = tf.shape(image)[1]\n",
        "    slice_index = slice_index//2\n",
        "    \n",
        "    input_image = image[:, :slice_index, :]\n",
        "    target_image = image[:, slice_index:, :]\n",
        "    \n",
        "    input_image = tf.cast(input_image, tf.float32)\n",
        "    target_image = tf.cast(target_image, tf.float32)\n",
        "    \n",
        "    return input_image, target_image\n",
        "\n",
        "def resizeImages(input_image, target_image, height, width):\n",
        "    input_image = tf.image.resize(input_image, [height, width],\n",
        "                                method=tf.image.ResizeMethod.NEAREST_NEIGHBOR)\n",
        "    target_image = tf.image.resize(target_image, [height, width],\n",
        "                               method=tf.image.ResizeMethod.NEAREST_NEIGHBOR)\n",
        "    \n",
        "    return input_image, target_image\n",
        "\n",
        "IMG_HEIGHT, IMG_WIDTH = 256, 256\n",
        "def random_crop(input_image, target_image):\n",
        "    stacked_image = tf.stack([input_image, target_image], axis=0)\n",
        "    cropped_image = tf.image.random_crop(\n",
        "        stacked_image, size=[2, IMG_HEIGHT, IMG_WIDTH, 3])\n",
        "    \n",
        "    return cropped_image[0], cropped_image[1]\n",
        "\n",
        "def normalize(input_image, target_image):\n",
        "    input_image = (input_image / 127.5) - 1\n",
        "    target_image = (target_image / 127.5) - 1\n",
        "\n",
        "    return input_image, target_image\n",
        "\n",
        "def normalize_simple(input_image, target_image):\n",
        "    input_image = (input_image - np.amin(input_image))/(np.amax(input_image)-np.amin(input_image))\n",
        "\n",
        "    target_image = (target_image - np.amin(target_image))/(np.amax(target_image)-np.amin(target_image))\n",
        "    \n",
        "    return input_image, target_image\n",
        "\n",
        "def random_jitter(input_image, target_image):\n",
        "  # resizing to 286 x 286 x 3\n",
        "    input_image, target_image = resizeImages(input_image, target_image, 286, 286)\n",
        "\n",
        "    # randomly cropping to 256 x 256 x 3\n",
        "    input_image, target_image = random_crop(input_image, target_image)\n",
        "    if tf.random.uniform(()) > 0.5:\n",
        "    # random mirroring\n",
        "        input_image = tf.image.flip_left_right(input_image)\n",
        "        target_image = tf.image.flip_left_right(target_image)\n",
        "\n",
        "    return input_image, target_image\n",
        "\n",
        "def collectImages(path):\n",
        "    input_images, target_images = [], []\n",
        "    for fname in os.listdir(path):\n",
        "        input_image, target_image = loadImages(os.path.join(path, fname))\n",
        "        input_image, target_image = random_jitter(input_image, target_image)\n",
        "        input_image, target_image = normalize_simple(input_image, target_image)\n",
        "        input_images.append(input_image)\n",
        "        target_images.append(target_image)\n",
        "        #list_of_images.append((real_image, input_image))\n",
        "        \n",
        "    return input_images, target_images"
      ],
      "execution_count": 0,
      "outputs": []
    },
    {
      "cell_type": "code",
      "metadata": {
        "id": "PxxBjFaE1zLu",
        "colab_type": "code",
        "colab": {}
      },
      "source": [
        "train_path = \"/content/train/cityscapes_data/train\"\n",
        "train_input_images, train_target_images = collectImages(train_path)"
      ],
      "execution_count": 0,
      "outputs": []
    },
    {
      "cell_type": "code",
      "metadata": {
        "id": "DqlMMqEA2idW",
        "colab_type": "code",
        "colab": {}
      },
      "source": [
        "test_path = \"/content/train/cityscapes_data/val\"\n",
        "test_input_images, test_target_images = collectImages(test_path)"
      ],
      "execution_count": 0,
      "outputs": []
    },
    {
      "cell_type": "code",
      "metadata": {
        "id": "Wl0hVWVl2izd",
        "colab_type": "code",
        "colab": {}
      },
      "source": [
        "train_input_images = tf.stack(train_input_images)\n",
        "train_target_images = tf.stack(train_target_images)"
      ],
      "execution_count": 0,
      "outputs": []
    },
    {
      "cell_type": "code",
      "metadata": {
        "id": "R7UF6fX92jb4",
        "colab_type": "code",
        "colab": {}
      },
      "source": [
        "test_input_images = tf.stack(test_input_images)\n",
        "test_target_images = tf.stack(test_target_images)"
      ],
      "execution_count": 0,
      "outputs": []
    },
    {
      "cell_type": "code",
      "metadata": {
        "id": "l7e9Hm5z2u_M",
        "colab_type": "code",
        "colab": {}
      },
      "source": [
        "plt.imshow(test_target_images[104])"
      ],
      "execution_count": 0,
      "outputs": []
    },
    {
      "cell_type": "code",
      "metadata": {
        "id": "RydeeYq406RB",
        "colab_type": "code",
        "colab": {}
      },
      "source": [
        "def downsample(filters, kernel_size=3, batch_norm=True):\n",
        "    initializer = tf.random_normal_initializer(0., 0.02)\n",
        "    model = tf.keras.Sequential()\n",
        "    model.add(tf.keras.layers.Conv2D(filters, kernel_size, padding='same', \n",
        "                                    kernel_initializer=\"glorot_uniform\"))\n",
        "    #model.add(tf.keras.layers.Conv2D(filters, kernel_size, padding='same', \n",
        "                                    #kernel_initializer=initializer))    \n",
        "    model.add(tf.keras.layers.ReLU())\n",
        "    if batch_norm:\n",
        "        model.add(tf.keras.layers.BatchNormalization())\n",
        "        \n",
        "    return model\n",
        "\n",
        "## upsampling block\n",
        "def upsample(filters, kernel_size=3, batch_norm=True, drop_out=True):\n",
        "    model = tf.keras.Sequential()\n",
        "    model.add(tf.keras.layers.Conv2D(filters, kernel_size, padding='same', \n",
        "                                    kernel_initializer='glorot_uniform'))\n",
        "    model.add(tf.keras.layers.ReLU())\n",
        "    if batch_norm:\n",
        "        model.add(tf.keras.layers.BatchNormalization())\n",
        "    if drop_out:\n",
        "        model.add(tf.keras.layers.Dropout(0.3))\n",
        "    model.add(tf.keras.layers.Conv2DTranspose(filters,3, strides = 2, padding='same'))    \n",
        "    \n",
        "    return model\n",
        "\n",
        "def bottom(filters, kernel_size=3, batch_norm=True, drop_out=True):\n",
        "    model = tf.keras.Sequential()\n",
        "    model.add(tf.keras.layers.Conv2D(filters, kernel_size, padding='same', \n",
        "                                    kernel_initializer='glorot_uniform'))\n",
        "    model.add(tf.keras.layers.ReLU())\n",
        "    if batch_norm:\n",
        "        model.add(tf.keras.layers.BatchNormalization())\n",
        "    if drop_out:\n",
        "        model.add(tf.keras.layers.Dropout(0.3))\n",
        "        \n",
        "    return model\n",
        "\n",
        "def final_layer(filters_out, filters, kernel_size, batch_norm=True, drop_out=True):\n",
        "    model = tf.keras.Sequential()\n",
        "    model.add(tf.keras.layers.Conv2D(filters, kernel_size, padding='same',\n",
        "                                    kernel_initializer='glorot_uniform'))\n",
        "    model.add(tf.keras.layers.ReLU())\n",
        "    if batch_norm:\n",
        "        model.add(tf.keras.layers.BatchNormalization())\n",
        "    if drop_out:\n",
        "        model.add(tf.keras.layers.Dropout(0.3))\n",
        "    \n",
        "    model.add(tf.keras.layers.Conv2D(filters, kernel_size, padding='same',\n",
        "                                    kernel_initializer='glorot_uniform'))\n",
        "    model.add(tf.keras.layers.ReLU())\n",
        "    if batch_norm:\n",
        "        model.add(tf.keras.layers.BatchNormalization())\n",
        "    if drop_out:\n",
        "        model.add(tf.keras.layers.Dropout(0.3))\n",
        "    \n",
        "    model.add(tf.keras.layers.Conv2D(filters_out, kernel_size, padding='same',\n",
        "                                    kernel_initializer='glorot_uniform'))\n",
        "    model.add(tf.keras.layers.ReLU())\n",
        "    if batch_norm:\n",
        "        model.add(tf.keras.layers.BatchNormalization())\n",
        "\n",
        "    return model"
      ],
      "execution_count": 0,
      "outputs": []
    },
    {
      "cell_type": "code",
      "metadata": {
        "id": "iF8syFzV3K7q",
        "colab_type": "code",
        "colab": {}
      },
      "source": [
        "class Generator(tf.keras.Model):\n",
        "    def __init__(self):\n",
        "        super(Generator, self).__init__()\n",
        "        self.skip_list = []\n",
        "        \n",
        "        self.down1= downsample(64, 3)\n",
        "        self.m1 = tf.keras.layers.MaxPooling2D(pool_size = (2, 2))\n",
        "        \n",
        "        self.down2 = downsample(128, 3)\n",
        "        self.m2 = tf.keras.layers.MaxPooling2D(pool_size = (2, 2))\n",
        "        \n",
        "        self.down3 = downsample(256, 3)\n",
        "        self.m3 = tf.keras.layers.MaxPooling2D(pool_size = (2, 2))\n",
        "        \n",
        "        self.down4 = downsample(512, 3)\n",
        "        self.m4 = tf.keras.layers.MaxPooling2D(pool_size = (2, 2))\n",
        "        \n",
        "        self.down5 = downsample(512, 3)\n",
        "        self.m5 = tf.keras.layers.MaxPooling2D(pool_size = (2, 2))\n",
        "        \n",
        "        self.down6 = downsample(512, 3)\n",
        "        self.m6 = tf.keras.layers.MaxPooling2D(pool_size = (2, 2))\n",
        "        \n",
        "        self.down7 = downsample(512, 3)\n",
        "        self.m7 = tf.keras.layers.MaxPooling2D(pool_size = (2, 2))\n",
        "        \n",
        "        self.bottom = bottom(512, 3)\n",
        "        \n",
        "        self.u1 = tf.keras.layers.Conv2DTranspose(512,3, strides = 2, padding='same')\n",
        "        \n",
        "        self.up1 = upsample(512, 3)\n",
        "        \n",
        "        self.up2 = upsample(512, 3)\n",
        "        \n",
        "        self.up3 = upsample(512, 3)\n",
        "        \n",
        "        self.up4 = upsample(256, 3)\n",
        "        \n",
        "        self.up5 = upsample(128, 3)\n",
        "        \n",
        "        self.up6 = upsample(64, 3)\n",
        "        \n",
        "        self.final_layer = final_layer(3, 64, 3)\n",
        "        \n",
        "    def call_model(self):\n",
        "        ## defining the input shape\n",
        "        inputs = tf.keras.layers.Input(shape=[256,256,3])\n",
        "        \n",
        "        x = inputs\n",
        "        print('input', x.shape)\n",
        "        \n",
        "        x = self.down1(x)\n",
        "        c1 = x\n",
        "        x = self.m1(x)\n",
        "        print('c1', x.shape)\n",
        "        \n",
        "        x = self.down2(x)\n",
        "        c2 = x\n",
        "        x = self.m2(x)\n",
        "        print('c2', x.shape)\n",
        "        \n",
        "        x = self.down3(x)\n",
        "        c3 = x\n",
        "        x = self.m3(x)\n",
        "        print('c3', x.shape)\n",
        "        \n",
        "        x = self.down4(x)\n",
        "        c4 = x\n",
        "        x = self.m4(x)\n",
        "        print('c4', x.shape)\n",
        "        \n",
        "        x = self.down5(x)\n",
        "        c5 = x\n",
        "        x = self.m5(x)\n",
        "        print('c5', x.shape)\n",
        "        \n",
        "        x = self.down6(x)\n",
        "        c6 = x\n",
        "        x = self.m6(x)\n",
        "        print('c6', x.shape)\n",
        "        \n",
        "        x = self.down7(x)\n",
        "        c7 = x\n",
        "        x = self.m7(x)\n",
        "        print('c7', x.shape)\n",
        "        \n",
        "        x = self.bottom(x)\n",
        "        print('bottom', x.shape)\n",
        "        \n",
        "        x = self.u1(x)\n",
        "        print('u1', x.shape)\n",
        "        \n",
        "        x = self.up1(tf.keras.layers.concatenate([x, c7], axis=3))\n",
        "        print('up1', x.shape)\n",
        "        \n",
        "        x = self.up2(tf.keras.layers.concatenate([x, c6], axis=3))\n",
        "        print('up2', x.shape)\n",
        "        \n",
        "        x = self.up3(tf.keras.layers.concatenate([x, c5], axis=3))\n",
        "        print('up3', x.shape)\n",
        "        \n",
        "        x = self.up4(tf.keras.layers.concatenate([x, c4], axis=3))\n",
        "        print('up4', x.shape)\n",
        "        \n",
        "        x = self.up5(tf.keras.layers.concatenate([x, c3], axis=3))\n",
        "        print('up5', x.shape)\n",
        "        \n",
        "        x = self.up6(tf.keras.layers.concatenate([x, c2], axis=3))\n",
        "        print('up6', x.shape)\n",
        "        \n",
        "        x = self.final_layer(tf.keras.layers.concatenate([x, c1], axis=3))\n",
        "        print('up7', x.shape)\n",
        "        \n",
        "        return tf.keras.Model(inputs=inputs, outputs=x)"
      ],
      "execution_count": 0,
      "outputs": []
    },
    {
      "cell_type": "code",
      "metadata": {
        "id": "xsjMRjiQ3L6y",
        "colab_type": "code",
        "colab": {}
      },
      "source": [
        "path = \"/content/train/cityscapes_data/train\"\n",
        "inp, rel = loadImages(path+'/109.jpg')\n",
        "inp, rel = resizeImages(inp, rel, 256, 256)\n",
        "plt.figure(0)\n",
        "plt.imshow(inp/255)"
      ],
      "execution_count": 0,
      "outputs": []
    },
    {
      "cell_type": "code",
      "metadata": {
        "id": "H3JIa4m53QuQ",
        "colab_type": "code",
        "colab": {}
      },
      "source": [
        "generator = Generator().call_model()\n",
        "print(type(generator))\n",
        "gen = generator(inp[tf.newaxis, ...], training=True)\n",
        "plt.imshow(gen[0])"
      ],
      "execution_count": 0,
      "outputs": []
    },
    {
      "cell_type": "code",
      "metadata": {
        "id": "Wl0PCWN13XNx",
        "colab_type": "code",
        "colab": {}
      },
      "source": [
        "initializer = tf.random_normal_initializer(0., 0.02)\n",
        "\n",
        "class Discriminator(tf.keras.Model):\n",
        "    def __init__(self):\n",
        "        super(Discriminator, self).__init__()\n",
        "        \n",
        "        #initializer = tf.random_normal_initializer(0., 0.02)\n",
        "        self.down1 = downsample(64, 4)\n",
        "        self.m1 = tf.keras.layers.MaxPooling2D(pool_size = (2, 2))\n",
        "\n",
        "        self.down2 = downsample(128, 4)\n",
        "        self.m2 = tf.keras.layers.MaxPooling2D(pool_size = (2, 2))\n",
        "\n",
        "        self.down3 = downsample(256, 4)\n",
        "        self.m3 = tf.keras.layers.MaxPooling2D(pool_size = (2, 2))\n",
        "\n",
        "        self.zero_padding1 = tf.keras.layers.ZeroPadding2D()\n",
        "        self.c1 = tf.keras.layers.Conv2D(512, 4, strides=1, \n",
        "                                        kernel_initializer='glorot_uniform', use_bias=False)\n",
        "\n",
        "        self.batchnorm = tf.keras.layers.BatchNormalization()\n",
        "        self.leaky_relu = tf.keras.layers.LeakyReLU()\n",
        "\n",
        "        self.zero_padding2 = tf.keras.layers.ZeroPadding2D()\n",
        "        self.c2 = tf.keras.layers.Conv2D(1, 4, strides=1,\n",
        "                                        kernel_initializer='glorot_uniform')\n",
        "            \n",
        "    def call_model(self):\n",
        "        inp = tf.keras.layers.Input(shape=[256, 256, 3], name='input_image')\n",
        "        tar = tf.keras.layers.Input(shape=[256, 256, 3], name='target_image')\n",
        "\n",
        "        x = tf.keras.layers.concatenate([inp, tar], axis=3)\n",
        "        print(x.shape)\n",
        "        y = x\n",
        "\n",
        "        x = self.down1(x)\n",
        "        x = self.m1(x)\n",
        "        print(x.shape)\n",
        "\n",
        "        x = self.down2(x)\n",
        "        x = self.m2(x)\n",
        "        print(x.shape)\n",
        "\n",
        "        x = self.down3(x)\n",
        "        x = self.m3(x)\n",
        "        print(x.shape)\n",
        "        \n",
        "        x = self.zero_padding1(x)\n",
        "        print(x.shape)\n",
        "        x = self.c1(x)\n",
        "        print(x.shape)\n",
        "        x = self.batchnorm(x)\n",
        "        print(x.shape)\n",
        "        x = self.leaky_relu(x)\n",
        "        print(x.shape)\n",
        "        x = self.zero_padding2(x)\n",
        "        print(x.shape)\n",
        "        x = self.c2(x)\n",
        "        print(x.shape)\n",
        "\n",
        "        return tf.keras.Model(inputs=[inp, tar], outputs=x)"
      ],
      "execution_count": 0,
      "outputs": []
    },
    {
      "cell_type": "code",
      "metadata": {
        "id": "hQELhnDx3cY-",
        "colab_type": "code",
        "colab": {}
      },
      "source": [
        "discriminator = Discriminator().call_model()\n",
        "#print(type(generator))\n",
        "disc = discriminator([rel[tf.newaxis, ...], gen], training=True)\n",
        "plt.imshow(disc[0,...,-1], vmin=-20, vmax=20, cmap='RdBu_r')"
      ],
      "execution_count": 0,
      "outputs": []
    },
    {
      "cell_type": "code",
      "metadata": {
        "id": "ERdnLPxE3wqa",
        "colab_type": "code",
        "colab": {}
      },
      "source": [
        "def generate_images(model, inp, tar):\n",
        "    prediction = model(inp, training=True)\n",
        "    plt.figure(figsize=(15,15))\n",
        "\n",
        "    display_list = [inp[0], tar[0], prediction[0]]\n",
        "    title = ['Input Image', 'Ground Truth', 'Predicted Image']\n",
        "\n",
        "    for i in range(3):\n",
        "        plt.subplot(1, 3, i+1)\n",
        "        plt.title(title[i])\n",
        "        # getting the pixel values between [0, 1] to plot it.\n",
        "        plt.imshow(display_list[i])\n",
        "        plt.axis('off')\n",
        "    plt.show()"
      ],
      "execution_count": 0,
      "outputs": []
    },
    {
      "cell_type": "code",
      "metadata": {
        "id": "iSNIwo8A3zgG",
        "colab_type": "code",
        "colab": {}
      },
      "source": [
        "x = inp[tf.newaxis, ...]/255\n",
        "c = rel[tf.newaxis, ...]/255\n",
        "generate_images(generator, x, c)"
      ],
      "execution_count": 0,
      "outputs": []
    },
    {
      "cell_type": "code",
      "metadata": {
        "id": "cfr_wINU316y",
        "colab_type": "code",
        "colab": {}
      },
      "source": [
        "loss_object = tf.keras.losses.BinaryCrossentropy(from_logits=True)\n",
        "def generator_loss(disc_gen_out, gen_out, target_image):\n",
        "    gan_loss = loss_object(tf.ones_like(disc_gen_out), disc_gen_out)\n",
        "    \n",
        "    mae_loss = tf.reduce_mean(tf.abs(target_image - gen_out))\n",
        "    \n",
        "    Lambda = 100 \n",
        "    \n",
        "    total_gen_loss = mae_loss*Lambda + gan_loss\n",
        "    \n",
        "    return total_gen_loss, mae_loss, gan_loss\n",
        "\n",
        "def discriminator_loss(disc_gen_in, disc_tar_in):\n",
        "    disc_real_loss = loss_object(tf.ones_like(disc_tar_in), disc_tar_in)\n",
        "    disc_gen_loss = loss_object(tf.zeros_like(disc_gen_in), disc_gen_in)\n",
        "    \n",
        "    total_disc_loss = disc_real_loss + disc_gen_loss\n",
        "    \n",
        "    return total_disc_loss"
      ],
      "execution_count": 0,
      "outputs": []
    },
    {
      "cell_type": "code",
      "metadata": {
        "id": "s05x468h38ga",
        "colab_type": "code",
        "colab": {}
      },
      "source": [
        "generator_optimizer = tf.keras.optimizers.Adam(2e-4, beta_1=0.5)\n",
        "discriminator_optimizer = tf.keras.optimizers.Adam(2e-4, beta_1=0.5)"
      ],
      "execution_count": 0,
      "outputs": []
    },
    {
      "cell_type": "code",
      "metadata": {
        "id": "Jtbm5rqA3_I0",
        "colab_type": "code",
        "colab": {}
      },
      "source": [
        "@tf.function\n",
        "def train_step(input_image, target):\n",
        "    with tf.GradientTape() as gen_tape, tf.GradientTape() as disc_tape:\n",
        "        \n",
        "        gen_output = generator(input_image, training=True)\n",
        "\n",
        "        disc_real_output = discriminator([input_image, target], training=True)\n",
        "        disc_generated_output = discriminator([input_image, gen_output], training=True)\n",
        "\n",
        "        gen_total_loss, gen_gan_loss, gen_l1_loss = generator_loss(disc_generated_output, gen_output, target)\n",
        "        disc_loss = discriminator_loss(disc_real_output, disc_generated_output)\n",
        "\n",
        "    generator_gradients = gen_tape.gradient(gen_total_loss,\n",
        "                                      generator.trainable_variables)\n",
        "    discriminator_gradients = disc_tape.gradient(disc_loss,\n",
        "                                            discriminator.trainable_variables)\n",
        "\n",
        "    generator_optimizer.apply_gradients(zip(generator_gradients,\n",
        "                                      generator.trainable_variables))\n",
        "    discriminator_optimizer.apply_gradients(zip(discriminator_gradients,\n",
        "                                          discriminator.trainable_variables))\n",
        "    \n",
        "    return gen_total_loss, disc_loss"
      ],
      "execution_count": 0,
      "outputs": []
    },
    {
      "cell_type": "code",
      "metadata": {
        "id": "Y5YOkoXt4Dxn",
        "colab_type": "code",
        "colab": {}
      },
      "source": [
        "import random\n",
        "batch_size = 15\n",
        "num_batches = len(train_input_images)//batch_size\n",
        "epochs = 100\n",
        "\n",
        "print(\"Start of training\")\n",
        "print()\n",
        "for epoch in range(epochs):\n",
        "    genLosses = 0\n",
        "    discLosses = 0\n",
        "    print('start of epoch ',  epoch+1)\n",
        "    for batch in range(num_batches):\n",
        "        inp = train_input_images[batch*batch_size: (batch+1)*batch_size]\n",
        "        tar = train_target_images[batch*batch_size: (batch+1)*batch_size]\n",
        "        genLoss, discLoss = train_step(inp, tar)\n",
        "        genLosses = genLosses + genLoss\n",
        "        discLosses = discLosses + discLoss\n",
        "        print('.', end='')\n",
        "    print()\n",
        "    print(\"Losses after epoch\", epoch+1, \":\")\n",
        "    print(\"Gen Loss:\", genLosses/num_batches)\n",
        "    print(\"Disc Loss:\", discLosses/num_batches)\n",
        "    c = random.randint(0, test_target_images.shape[0])\n",
        "    generate_images(generator, test_input_images[c:c+1], test_target_images[c:c+1])\n",
        "    print('end of epoch ',  epoch+1)\n",
        "    print()\n",
        "print(\"end of training\")"
      ],
      "execution_count": 0,
      "outputs": []
    },
    {
      "cell_type": "code",
      "metadata": {
        "id": "A-67VZCN4QIg",
        "colab_type": "code",
        "colab": {}
      },
      "source": [
        ""
      ],
      "execution_count": 0,
      "outputs": []
    }
  ]
}